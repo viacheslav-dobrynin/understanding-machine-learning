{
 "cells": [
  {
   "cell_type": "code",
   "execution_count": 2,
   "id": "initial_id",
   "metadata": {
    "collapsed": true,
    "ExecuteTime": {
     "end_time": "2023-10-29T13:34:52.863975Z",
     "start_time": "2023-10-29T13:34:52.157772Z"
    }
   },
   "outputs": [],
   "source": [
    "import torch\n",
    "import torch.nn.functional as F\n",
    "import matplotlib.pyplot as plt \n",
    "%matplotlib inline"
   ]
  },
  {
   "cell_type": "code",
   "execution_count": 4,
   "outputs": [
    {
     "name": "stdout",
     "output_type": "stream",
     "text": [
      "['emma', 'olivia', 'ava', 'isabella', 'sophia', 'charlotte', 'mia', 'amelia']\n",
      "32033\n"
     ]
    }
   ],
   "source": [
    "# read in all the words\n",
    "words = open('names.txt', 'r').read().splitlines()\n",
    "print(words[:8])\n",
    "print(len(words))"
   ],
   "metadata": {
    "collapsed": false,
    "ExecuteTime": {
     "end_time": "2023-10-29T13:36:18.725508Z",
     "start_time": "2023-10-29T13:36:18.713583Z"
    }
   },
   "id": "34acc5e9bbc34b52"
  },
  {
   "cell_type": "code",
   "execution_count": 5,
   "outputs": [
    {
     "name": "stdout",
     "output_type": "stream",
     "text": [
      "{1: 'a', 2: 'b', 3: 'c', 4: 'd', 5: 'e', 6: 'f', 7: 'g', 8: 'h', 9: 'i', 10: 'j', 11: 'k', 12: 'l', 13: 'm', 14: 'n', 15: 'o', 16: 'p', 17: 'q', 18: 'r', 19: 's', 20: 't', 21: 'u', 22: 'v', 23: 'w', 24: 'x', 25: 'y', 26: 'z', 0: '.'}\n"
     ]
    }
   ],
   "source": [
    "# building the vocabulary of characters and mappings to/from integers\n",
    "chars = sorted(list(set(''.join(words))))\n",
    "stoi = {s: i + 1 for i, s in enumerate(chars)}\n",
    "stoi['.'] = 0\n",
    "itos = {i: s for s, i in stoi.items()}\n",
    "print(itos)"
   ],
   "metadata": {
    "collapsed": false,
    "ExecuteTime": {
     "end_time": "2023-10-29T13:39:38.653551Z",
     "start_time": "2023-10-29T13:39:38.648998Z"
    }
   },
   "id": "1fd6fa273b6c1ba7"
  },
  {
   "cell_type": "code",
   "execution_count": 138,
   "outputs": [],
   "source": [
    "# build the dataset\n",
    "block_size = 3 # context length: how many chars do we take to predict the next one?\n",
    "X, Y = [], []\n",
    "# for w in words[:5]:\n",
    "for w in words:\n",
    "    # print(w)\n",
    "    context = [0] * block_size\n",
    "    for ch in w + '.':\n",
    "        ix = stoi[ch]\n",
    "        X.append(context)\n",
    "        Y.append(ix)\n",
    "        # print(''.join(itos[i] for i in context), '--->', itos[ix])\n",
    "        context = context[1:] + [ix] # crop and append\n",
    "        \n",
    "X = torch.tensor(X)\n",
    "Y = torch.tensor(Y)"
   ],
   "metadata": {
    "collapsed": false,
    "ExecuteTime": {
     "end_time": "2023-10-29T17:17:35.682289Z",
     "start_time": "2023-10-29T17:17:35.160219Z"
    }
   },
   "id": "d277b4abc30d2d29"
  },
  {
   "cell_type": "code",
   "execution_count": 139,
   "outputs": [
    {
     "data": {
      "text/plain": "(torch.Size([228146, 3]), torch.int64, torch.Size([228146]), torch.int64)"
     },
     "execution_count": 139,
     "metadata": {},
     "output_type": "execute_result"
    }
   ],
   "source": [
    "X.shape, X.dtype, Y.shape, Y.dtype"
   ],
   "metadata": {
    "collapsed": false,
    "ExecuteTime": {
     "end_time": "2023-10-29T17:17:45.662339Z",
     "start_time": "2023-10-29T17:17:45.649274Z"
    }
   },
   "id": "56492c712c17e67f"
  },
  {
   "cell_type": "code",
   "execution_count": 220,
   "outputs": [
    {
     "name": "stdout",
     "output_type": "stream",
     "text": [
      "torch.Size([182625, 3]) torch.Size([182625])\n",
      "torch.Size([22655, 3]) torch.Size([22655])\n",
      "torch.Size([22866, 3]) torch.Size([22866])\n"
     ]
    }
   ],
   "source": [
    "# build the dataset\n",
    "block_size = 3 # context length: how many characters do we take to predict the next one?\n",
    "\n",
    "def build_dataset(words):\n",
    "    X, Y = [], []\n",
    "    for w in words:\n",
    "\n",
    "        #print(w)\n",
    "        context = [0] * block_size\n",
    "        for ch in w + '.':\n",
    "            ix = stoi[ch]\n",
    "            X.append(context)\n",
    "            Y.append(ix)\n",
    "            #print(''.join(itos[i] for i in context), '--->', itos[ix])\n",
    "            context = context[1:] + [ix] # crop and append\n",
    "\n",
    "    X = torch.tensor(X)\n",
    "    Y = torch.tensor(Y)\n",
    "    print(X.shape, Y.shape)\n",
    "    return X, Y\n",
    "\n",
    "import random\n",
    "random.seed(42)\n",
    "random.shuffle(words)\n",
    "n1 = int(0.8*len(words))\n",
    "n2 = int(0.9*len(words))\n",
    "\n",
    "Xtr, Ytr = build_dataset(words[:n1])\n",
    "Xdev, Ydev = build_dataset(words[n1:n2])\n",
    "Xte, Yte = build_dataset(words[n2:])"
   ],
   "metadata": {
    "collapsed": false,
    "ExecuteTime": {
     "end_time": "2023-10-29T17:55:17.217132Z",
     "start_time": "2023-10-29T17:55:16.222926Z"
    }
   },
   "id": "33d05114c9b9c397"
  },
  {
   "cell_type": "code",
   "execution_count": 11,
   "outputs": [
    {
     "data": {
      "text/plain": "tensor([[ 0,  0,  0],\n        [ 0,  0,  5],\n        [ 0,  5, 13],\n        [ 5, 13, 13],\n        [13, 13,  1],\n        [ 0,  0,  0],\n        [ 0,  0, 15],\n        [ 0, 15, 12],\n        [15, 12,  9],\n        [12,  9, 22],\n        [ 9, 22,  9],\n        [22,  9,  1],\n        [ 0,  0,  0],\n        [ 0,  0,  1],\n        [ 0,  1, 22],\n        [ 1, 22,  1],\n        [ 0,  0,  0],\n        [ 0,  0,  9],\n        [ 0,  9, 19],\n        [ 9, 19,  1],\n        [19,  1,  2],\n        [ 1,  2,  5],\n        [ 2,  5, 12],\n        [ 5, 12, 12],\n        [12, 12,  1],\n        [ 0,  0,  0],\n        [ 0,  0, 19],\n        [ 0, 19, 15],\n        [19, 15, 16],\n        [15, 16,  8],\n        [16,  8,  9],\n        [ 8,  9,  1]])"
     },
     "execution_count": 11,
     "metadata": {},
     "output_type": "execute_result"
    }
   ],
   "source": [
    "X"
   ],
   "metadata": {
    "collapsed": false,
    "ExecuteTime": {
     "end_time": "2023-10-29T13:51:08.988809Z",
     "start_time": "2023-10-29T13:51:08.966572Z"
    }
   },
   "id": "accadb03f294a364"
  },
  {
   "cell_type": "code",
   "execution_count": 12,
   "outputs": [
    {
     "data": {
      "text/plain": "tensor([ 5, 13, 13,  1,  0, 15, 12,  9, 22,  9,  1,  0,  1, 22,  1,  0,  9, 19,\n         1,  2,  5, 12, 12,  1,  0, 19, 15, 16,  8,  9,  1,  0])"
     },
     "execution_count": 12,
     "metadata": {},
     "output_type": "execute_result"
    }
   ],
   "source": [
    "Y"
   ],
   "metadata": {
    "collapsed": false,
    "ExecuteTime": {
     "end_time": "2023-10-29T13:51:20.348192Z",
     "start_time": "2023-10-29T13:51:20.324805Z"
    }
   },
   "id": "5d33ba4f07ba4aae"
  },
  {
   "cell_type": "code",
   "execution_count": 13,
   "outputs": [],
   "source": [
    "C = torch.randn((27, 2))"
   ],
   "metadata": {
    "collapsed": false,
    "ExecuteTime": {
     "end_time": "2023-10-29T13:53:06.174694Z",
     "start_time": "2023-10-29T13:53:06.150007Z"
    }
   },
   "id": "dce0e95b34257c8d"
  },
  {
   "cell_type": "code",
   "execution_count": 14,
   "outputs": [
    {
     "data": {
      "text/plain": "tensor([[-0.8991,  0.2304],\n        [-0.3806,  1.1378],\n        [-0.3438, -0.3785],\n        [-0.4775,  1.8713],\n        [-0.4804, -0.3575],\n        [ 1.0493, -0.5696],\n        [-0.2922, -0.2832],\n        [ 0.3635,  0.6309],\n        [-0.9095,  2.9389],\n        [-1.1596, -0.2117],\n        [ 0.0874, -1.2836],\n        [ 1.7885,  0.9464],\n        [ 0.0192, -0.9209],\n        [-0.4295,  1.2617],\n        [ 0.9781,  1.2581],\n        [ 1.9899,  1.1928],\n        [ 0.0425,  0.6879],\n        [-0.3377,  0.0631],\n        [-0.2821, -0.0702],\n        [-0.6072, -0.0665],\n        [ 1.0581, -1.6443],\n        [ 0.1788,  1.1790],\n        [-1.1378,  1.0974],\n        [-0.2729,  0.6342],\n        [ 0.5707, -1.2235],\n        [-0.6851,  0.5268],\n        [-1.3874, -2.3149]])"
     },
     "execution_count": 14,
     "metadata": {},
     "output_type": "execute_result"
    }
   ],
   "source": [
    "C"
   ],
   "metadata": {
    "collapsed": false,
    "ExecuteTime": {
     "end_time": "2023-10-29T13:53:20.004044Z",
     "start_time": "2023-10-29T13:53:19.978848Z"
    }
   },
   "id": "e6324f7eda10920e"
  },
  {
   "cell_type": "code",
   "execution_count": 21,
   "outputs": [
    {
     "name": "stdout",
     "output_type": "stream",
     "text": [
      "tensor([ 1.0493, -0.5696])\n",
      "tensor([ 1.0493, -0.5696])\n"
     ]
    }
   ],
   "source": [
    "# the same things:\n",
    "print(C[5]) # faster\n",
    "print(F.one_hot(torch.tensor(5), num_classes=27).float() @ C)"
   ],
   "metadata": {
    "collapsed": false,
    "ExecuteTime": {
     "end_time": "2023-10-29T13:57:41.693752Z",
     "start_time": "2023-10-29T13:57:41.681873Z"
    }
   },
   "id": "a67798862754797c"
  },
  {
   "cell_type": "code",
   "execution_count": 23,
   "outputs": [
    {
     "data": {
      "text/plain": "torch.Size([32, 3, 2])"
     },
     "execution_count": 23,
     "metadata": {},
     "output_type": "execute_result"
    }
   ],
   "source": [
    "C[X].shape"
   ],
   "metadata": {
    "collapsed": false,
    "ExecuteTime": {
     "end_time": "2023-10-29T14:03:56.891722Z",
     "start_time": "2023-10-29T14:03:56.882830Z"
    }
   },
   "id": "ba4d08dc32fa65ed"
  },
  {
   "cell_type": "code",
   "execution_count": 24,
   "outputs": [
    {
     "data": {
      "text/plain": "tensor(1)"
     },
     "execution_count": 24,
     "metadata": {},
     "output_type": "execute_result"
    }
   ],
   "source": [
    "X[13, 2]"
   ],
   "metadata": {
    "collapsed": false,
    "ExecuteTime": {
     "end_time": "2023-10-29T14:04:04.592418Z",
     "start_time": "2023-10-29T14:04:04.568783Z"
    }
   },
   "id": "2a5dc57685dd28af"
  },
  {
   "cell_type": "code",
   "execution_count": 25,
   "outputs": [
    {
     "data": {
      "text/plain": "tensor([-0.3806,  1.1378])"
     },
     "execution_count": 25,
     "metadata": {},
     "output_type": "execute_result"
    }
   ],
   "source": [
    "C[X][13, 2]"
   ],
   "metadata": {
    "collapsed": false,
    "ExecuteTime": {
     "end_time": "2023-10-29T14:04:14.625342Z",
     "start_time": "2023-10-29T14:04:14.604333Z"
    }
   },
   "id": "404211a3aa9d9e35"
  },
  {
   "cell_type": "code",
   "execution_count": 26,
   "outputs": [
    {
     "data": {
      "text/plain": "tensor([-0.3806,  1.1378])"
     },
     "execution_count": 26,
     "metadata": {},
     "output_type": "execute_result"
    }
   ],
   "source": [
    "C[1]"
   ],
   "metadata": {
    "collapsed": false,
    "ExecuteTime": {
     "end_time": "2023-10-29T14:04:45.473883Z",
     "start_time": "2023-10-29T14:04:45.451157Z"
    }
   },
   "id": "c93c89a6d4ef1d17"
  },
  {
   "cell_type": "code",
   "execution_count": 28,
   "outputs": [
    {
     "data": {
      "text/plain": "torch.Size([32, 3, 2])"
     },
     "execution_count": 28,
     "metadata": {},
     "output_type": "execute_result"
    }
   ],
   "source": [
    "emb = C[X]\n",
    "emb.shape"
   ],
   "metadata": {
    "collapsed": false,
    "ExecuteTime": {
     "end_time": "2023-10-29T14:06:04.469047Z",
     "start_time": "2023-10-29T14:06:04.459304Z"
    }
   },
   "id": "40a081e9a54154c2"
  },
  {
   "cell_type": "code",
   "execution_count": 29,
   "outputs": [],
   "source": [
    "W1 = torch.randn((6, 100))\n",
    "b1 = torch.randn(100)"
   ],
   "metadata": {
    "collapsed": false,
    "ExecuteTime": {
     "end_time": "2023-10-29T14:11:40.076373Z",
     "start_time": "2023-10-29T14:11:40.054346Z"
    }
   },
   "id": "7eeb21290f1e8cd5"
  },
  {
   "cell_type": "code",
   "execution_count": 32,
   "outputs": [
    {
     "ename": "RuntimeError",
     "evalue": "mat1 and mat2 shapes cannot be multiplied (96x2 and 6x100)",
     "output_type": "error",
     "traceback": [
      "\u001B[0;31m---------------------------------------------------------------------------\u001B[0m",
      "\u001B[0;31mRuntimeError\u001B[0m                              Traceback (most recent call last)",
      "Cell \u001B[0;32mIn[32], line 1\u001B[0m\n\u001B[0;32m----> 1\u001B[0m \u001B[43memb\u001B[49m\u001B[43m \u001B[49m\u001B[38;5;241;43m@\u001B[39;49m\u001B[43m \u001B[49m\u001B[43mW1\u001B[49m \u001B[38;5;241m+\u001B[39m b1\n",
      "\u001B[0;31mRuntimeError\u001B[0m: mat1 and mat2 shapes cannot be multiplied (96x2 and 6x100)"
     ]
    }
   ],
   "source": [
    "emb @ W1 + b1"
   ],
   "metadata": {
    "collapsed": false,
    "ExecuteTime": {
     "end_time": "2023-10-29T14:12:25.125939Z",
     "start_time": "2023-10-29T14:12:25.090239Z"
    }
   },
   "id": "673774c05e80ad83"
  },
  {
   "cell_type": "code",
   "execution_count": 36,
   "outputs": [
    {
     "data": {
      "text/plain": "torch.Size([32, 6])"
     },
     "execution_count": 36,
     "metadata": {},
     "output_type": "execute_result"
    }
   ],
   "source": [
    "torch.cat([emb[:, 0, :], emb[:, 1, :], emb[:, 2, :]], 1).shape"
   ],
   "metadata": {
    "collapsed": false,
    "ExecuteTime": {
     "end_time": "2023-10-29T14:14:52.674784Z",
     "start_time": "2023-10-29T14:14:52.664401Z"
    }
   },
   "id": "18b3f378eb58a902"
  },
  {
   "cell_type": "code",
   "execution_count": 40,
   "outputs": [
    {
     "data": {
      "text/plain": "torch.Size([32, 6])"
     },
     "execution_count": 40,
     "metadata": {},
     "output_type": "execute_result"
    }
   ],
   "source": [
    "torch.cat(torch.unbind(emb, 1), 1).shape"
   ],
   "metadata": {
    "collapsed": false,
    "ExecuteTime": {
     "end_time": "2023-10-29T14:17:14.438022Z",
     "start_time": "2023-10-29T14:17:14.426745Z"
    }
   },
   "id": "391d99525d6bf4ee"
  },
  {
   "cell_type": "code",
   "execution_count": 43,
   "outputs": [
    {
     "data": {
      "text/plain": "torch.Size([18])"
     },
     "execution_count": 43,
     "metadata": {},
     "output_type": "execute_result"
    }
   ],
   "source": [
    "a = torch.arange(18)\n",
    "a.shape"
   ],
   "metadata": {
    "collapsed": false,
    "ExecuteTime": {
     "end_time": "2023-10-29T14:18:05.647745Z",
     "start_time": "2023-10-29T14:18:05.625771Z"
    }
   },
   "id": "e13bf0d42ee0af2a"
  },
  {
   "cell_type": "code",
   "execution_count": 44,
   "outputs": [
    {
     "data": {
      "text/plain": "tensor([[ 0,  1,  2,  3,  4,  5,  6,  7,  8],\n        [ 9, 10, 11, 12, 13, 14, 15, 16, 17]])"
     },
     "execution_count": 44,
     "metadata": {},
     "output_type": "execute_result"
    }
   ],
   "source": [
    "a.view(2, 9)"
   ],
   "metadata": {
    "collapsed": false,
    "ExecuteTime": {
     "end_time": "2023-10-29T14:18:29.721307Z",
     "start_time": "2023-10-29T14:18:29.696236Z"
    }
   },
   "id": "11d23773ef28d761"
  },
  {
   "cell_type": "code",
   "execution_count": 47,
   "outputs": [
    {
     "data": {
      "text/plain": " 0\n 1\n 2\n 3\n 4\n 5\n 6\n 7\n 8\n 9\n 10\n 11\n 12\n 13\n 14\n 15\n 16\n 17\n[torch.storage.TypedStorage(dtype=torch.int64, device=cpu) of size 18]"
     },
     "execution_count": 47,
     "metadata": {},
     "output_type": "execute_result"
    }
   ],
   "source": [
    "a.storage()"
   ],
   "metadata": {
    "collapsed": false,
    "ExecuteTime": {
     "end_time": "2023-10-29T14:19:44.904649Z",
     "start_time": "2023-10-29T14:19:44.893247Z"
    }
   },
   "id": "2dfd55be236661b9"
  },
  {
   "cell_type": "code",
   "execution_count": 55,
   "outputs": [
    {
     "data": {
      "text/plain": "tensor([[True, True, True, True, True, True],\n        [True, True, True, True, True, True],\n        [True, True, True, True, True, True],\n        [True, True, True, True, True, True],\n        [True, True, True, True, True, True],\n        [True, True, True, True, True, True],\n        [True, True, True, True, True, True],\n        [True, True, True, True, True, True],\n        [True, True, True, True, True, True],\n        [True, True, True, True, True, True],\n        [True, True, True, True, True, True],\n        [True, True, True, True, True, True],\n        [True, True, True, True, True, True],\n        [True, True, True, True, True, True],\n        [True, True, True, True, True, True],\n        [True, True, True, True, True, True],\n        [True, True, True, True, True, True],\n        [True, True, True, True, True, True],\n        [True, True, True, True, True, True],\n        [True, True, True, True, True, True],\n        [True, True, True, True, True, True],\n        [True, True, True, True, True, True],\n        [True, True, True, True, True, True],\n        [True, True, True, True, True, True],\n        [True, True, True, True, True, True],\n        [True, True, True, True, True, True],\n        [True, True, True, True, True, True],\n        [True, True, True, True, True, True],\n        [True, True, True, True, True, True],\n        [True, True, True, True, True, True],\n        [True, True, True, True, True, True],\n        [True, True, True, True, True, True]])"
     },
     "execution_count": 55,
     "metadata": {},
     "output_type": "execute_result"
    }
   ],
   "source": [
    "emb.view(32, 6) == torch.cat(torch.unbind(emb, 1), 1) "
   ],
   "metadata": {
    "collapsed": false,
    "ExecuteTime": {
     "end_time": "2023-10-29T14:23:29.320826Z",
     "start_time": "2023-10-29T14:23:29.308264Z"
    }
   },
   "id": "f71d993edb9e83e8"
  },
  {
   "cell_type": "code",
   "execution_count": 68,
   "outputs": [
    {
     "name": "stdout",
     "output_type": "stream",
     "text": [
      "torch.Size([32, 100])\n",
      "tensor([[ 0.5790,  0.9998,  0.5511,  ..., -0.9812, -0.8333,  0.5841],\n",
      "        [ 0.9775,  0.9386,  0.5584,  ..., -0.9983,  0.4220,  0.9993],\n",
      "        [ 0.3078,  0.9564, -0.2857,  ..., -0.9963, -0.9544, -0.1923],\n",
      "        ...,\n",
      "        [ 0.3053,  0.9999, -0.9511,  ...,  0.9999, -1.0000, -0.9256],\n",
      "        [ 0.6851,  0.9999,  0.4433,  ..., -0.7993, -1.0000, -0.8184],\n",
      "        [ 0.2701,  0.8355, -0.8906,  ..., -0.7127, -0.9999,  0.9338]])\n"
     ]
    }
   ],
   "source": [
    "h = torch.tanh(emb.view(-1, 6) @ W1 + b1)\n",
    "# h = torch.tanh(emb.view(emb.shape[0], 6) @ W1 + b1) # same\n",
    "print(h.shape)\n",
    "print(h)"
   ],
   "metadata": {
    "collapsed": false,
    "ExecuteTime": {
     "end_time": "2023-10-29T14:29:24.719139Z",
     "start_time": "2023-10-29T14:29:24.709351Z"
    }
   },
   "id": "21c0f5f73fac1353"
  },
  {
   "cell_type": "code",
   "execution_count": 69,
   "outputs": [],
   "source": [
    "W2 = torch.randn((100, 27))\n",
    "b2 = torch.randn(27)"
   ],
   "metadata": {
    "collapsed": false,
    "ExecuteTime": {
     "end_time": "2023-10-29T14:32:20.627340Z",
     "start_time": "2023-10-29T14:32:20.620536Z"
    }
   },
   "id": "d5fca4dce9a16ed0"
  },
  {
   "cell_type": "code",
   "execution_count": 72,
   "outputs": [
    {
     "name": "stdout",
     "output_type": "stream",
     "text": [
      "torch.Size([32, 27])\n",
      "tensor([[-1.1442e+01, -7.3908e+00,  3.8207e+00,  1.1016e+00, -8.1932e-01,\n",
      "         -1.2690e+01,  3.4642e+00,  3.7410e+00,  3.5993e-01, -4.6401e+00,\n",
      "          6.4095e+00, -2.4524e+00,  1.1534e+01,  6.5221e+00,  1.0438e+01,\n",
      "         -1.1429e+00,  3.3559e+00,  1.9384e+00, -4.1197e+00,  1.3139e+01,\n",
      "          7.5327e-01,  6.8080e+00, -1.4743e+01, -2.4243e+00, -4.5628e+00,\n",
      "          5.7433e+00,  8.2543e-01],\n",
      "        [-1.1018e+01, -9.8390e+00, -1.3232e+00, -2.0605e+01,  4.7938e+00,\n",
      "         -2.1647e+00,  3.2928e-01,  7.1325e+00,  2.7626e+00, -2.2788e+00,\n",
      "          4.2037e-01, -5.8886e+00,  3.8016e-01, -3.7647e+00,  9.6511e+00,\n",
      "          6.9506e+00, -2.5687e+00, -8.5003e-01, -5.4818e+00, -1.3322e+00,\n",
      "          1.9466e+00, -1.6516e+00, -5.6854e+00,  1.2944e-01,  1.3157e+00,\n",
      "          5.1702e+00, -3.5205e+00],\n",
      "        [-3.0762e+00, -3.3062e+00,  5.6552e+00, -2.6227e+00, -9.1022e+00,\n",
      "         -2.0167e+01, -1.2415e+01, -1.1028e+01, -8.0701e+00, -1.3086e+01,\n",
      "         -1.0028e+00, -5.6875e+00,  5.1551e+00,  1.7616e+01,  7.4448e+00,\n",
      "         -1.2774e+01,  6.3192e+00,  9.4256e+00, -5.6848e+00, -5.2671e+00,\n",
      "         -5.5011e+00, -8.6540e+00, -1.3153e+01,  2.0151e+00, -5.4056e+00,\n",
      "          1.0587e+01,  1.2181e+01],\n",
      "        [ 4.9237e+00, -6.6961e+00,  6.6321e+00,  4.7852e+00, -4.9417e+00,\n",
      "         -8.9339e+00, -5.6423e+00, -7.6755e-01,  2.1634e+00,  6.6415e+00,\n",
      "         -1.0994e+01, -8.0158e+00,  5.8154e+00, -4.7696e+00,  7.0195e+00,\n",
      "          8.5301e+00, -4.9197e-01,  7.6637e+00, -2.5448e+01,  1.4226e+01,\n",
      "          9.0979e+00,  8.3161e+00,  4.1559e+00, -4.3831e+00,  3.2942e+00,\n",
      "         -5.7136e+00,  1.1912e+01],\n",
      "        [ 8.3152e+00, -6.9096e+00,  4.1625e+00,  5.2677e+00, -8.5962e+00,\n",
      "         -9.8969e+00, -5.3614e+00,  3.1897e+00,  3.5236e-01, -2.3696e+00,\n",
      "         -6.7363e+00, -6.1735e+00,  1.9701e+00,  2.1573e+01,  1.3488e+01,\n",
      "          7.4871e-01,  6.6368e+00,  3.9464e+00, -7.7289e+00,  9.5782e+00,\n",
      "         -5.7149e-02, -3.4112e+00, -1.7012e+01, -6.1434e+00, -6.6160e-01,\n",
      "          5.8086e+00,  1.0433e+01],\n",
      "        [-1.1442e+01, -7.3908e+00,  3.8207e+00,  1.1016e+00, -8.1932e-01,\n",
      "         -1.2690e+01,  3.4642e+00,  3.7410e+00,  3.5993e-01, -4.6401e+00,\n",
      "          6.4095e+00, -2.4524e+00,  1.1534e+01,  6.5221e+00,  1.0438e+01,\n",
      "         -1.1429e+00,  3.3559e+00,  1.9384e+00, -4.1197e+00,  1.3139e+01,\n",
      "          7.5327e-01,  6.8080e+00, -1.4743e+01, -2.4243e+00, -4.5628e+00,\n",
      "          5.7433e+00,  8.2543e-01],\n",
      "        [-6.4384e+00, -7.4235e+00,  6.3492e+00, -1.9757e+01,  1.5556e+00,\n",
      "         -1.3165e+01, -1.2739e+01,  7.0882e+00, -1.0890e+01, -1.1535e+01,\n",
      "         -6.5923e+00, -8.1638e+00, -2.2320e+00,  1.5443e+01,  7.7220e+00,\n",
      "          6.2172e+00, -1.0218e+01, -1.0562e+00, -1.4520e+01,  3.4640e-01,\n",
      "          4.2883e+00, -9.1465e+00, -3.2521e+00,  4.6444e+00, -3.3262e+00,\n",
      "          1.2055e-01, -2.0152e-01],\n",
      "        [-8.7494e+00, -8.8029e+00,  7.4895e-02,  1.5198e+01, -9.0144e+00,\n",
      "         -1.8877e+01,  6.6302e+00, -1.5188e+01,  8.1742e+00,  1.6613e+00,\n",
      "         -9.5152e+00, -4.2190e+00,  3.4305e-01,  1.4029e+00,  1.3577e+00,\n",
      "         -8.0986e+00, -5.9749e+00,  8.9023e+00, -4.9324e+00, -2.3276e+01,\n",
      "          1.1452e+00,  1.8709e+00, -1.1093e+01, -6.6099e-02, -4.5893e-01,\n",
      "          8.3867e+00,  1.2206e+01],\n",
      "        [ 1.0182e+01,  5.3055e-02,  6.5096e+00, -6.1729e-01,  5.8580e+00,\n",
      "         -8.6988e-01,  1.4588e+01,  5.9288e-01,  2.9127e+00, -1.2611e+01,\n",
      "         -4.2430e+00, -4.4699e-01,  8.4878e+00, -1.2647e+01, -5.5090e+00,\n",
      "          1.7240e+01, -3.8756e+00,  4.7370e+00, -2.2066e+00,  5.2476e+00,\n",
      "          3.2511e-01,  5.4889e+00,  2.3696e+01, -4.1587e+00,  1.0728e+01,\n",
      "         -7.4362e+00,  1.8238e+00],\n",
      "        [-7.9673e+00, -8.7885e-01,  1.0322e+01, -2.9911e+00,  1.8146e+00,\n",
      "         -5.6079e+00,  5.3333e+00, -2.3593e-01, -7.7315e+00, -7.6373e-01,\n",
      "          2.7996e+00,  4.7621e+00,  1.5494e+01, -1.8014e+00,  3.3837e+00,\n",
      "          3.6436e+00,  5.9629e+00,  8.2930e+00, -1.4604e+01,  2.1219e+01,\n",
      "          3.8123e+00,  6.0885e+00,  3.3982e+00, -2.1212e+00, -7.7466e+00,\n",
      "         -5.9361e-01,  9.9784e-02],\n",
      "        [-1.0019e+01, -7.4617e+00,  1.6815e+00,  1.7082e+01, -3.2223e+00,\n",
      "         -8.4720e+00, -1.2980e+00,  5.2993e+00,  6.5112e+00, -7.8657e+00,\n",
      "          4.8357e+00, -6.6852e+00,  9.4274e+00,  6.0087e+00,  6.2156e+00,\n",
      "         -3.3490e+00,  3.8187e+00, -4.6754e+00, -1.9861e-01,  1.2474e+01,\n",
      "          1.2824e+00,  5.1046e+00, -1.0654e+01, -4.3022e+00, -3.9532e+00,\n",
      "          5.7710e+00, -7.8061e-01],\n",
      "        [-3.9158e+00, -8.5590e+00,  5.5465e+00, -6.1638e+00,  2.6464e+00,\n",
      "         -1.3778e+01, -4.6681e+00,  1.7957e+00, -9.8389e+00, -8.3264e+00,\n",
      "          2.7306e+00, -1.9590e+00,  6.5036e+00,  1.7365e+01,  1.1374e+01,\n",
      "          1.1178e+00, -1.3334e-01,  2.6028e+00, -8.5808e+00,  6.8901e+00,\n",
      "         -1.5097e+00, -2.2551e+00, -1.6344e+01, -2.0482e+00, -7.0174e+00,\n",
      "          8.9623e+00,  7.3965e+00],\n",
      "        [-1.1442e+01, -7.3908e+00,  3.8207e+00,  1.1016e+00, -8.1932e-01,\n",
      "         -1.2690e+01,  3.4642e+00,  3.7410e+00,  3.5993e-01, -4.6401e+00,\n",
      "          6.4095e+00, -2.4524e+00,  1.1534e+01,  6.5221e+00,  1.0438e+01,\n",
      "         -1.1429e+00,  3.3559e+00,  1.9384e+00, -4.1197e+00,  1.3139e+01,\n",
      "          7.5327e-01,  6.8080e+00, -1.4743e+01, -2.4243e+00, -4.5628e+00,\n",
      "          5.7433e+00,  8.2543e-01],\n",
      "        [-7.0042e+00, -1.0897e+01,  3.6980e+00, -5.2770e+00,  1.5149e-01,\n",
      "         -1.2992e+01, -8.7023e+00,  1.5658e+00, -8.7842e+00, -4.0613e+00,\n",
      "          6.4414e-01,  3.3882e-01,  8.7301e+00,  1.2508e+01,  1.3061e+01,\n",
      "         -1.2667e+00,  5.8172e+00,  9.4985e+00, -1.1789e+01,  1.1241e+01,\n",
      "          6.6840e-01, -8.5986e-01, -1.5630e+01, -3.6911e+00, -7.6924e+00,\n",
      "          5.0047e+00,  1.1219e+01],\n",
      "        [-2.5135e+00, -8.5981e+00,  1.9565e-01,  1.1109e+01, -1.3912e+01,\n",
      "         -1.1987e+01, -9.9733e+00,  1.8005e+00, -2.0805e+00, -1.7102e-01,\n",
      "         -1.9260e+00,  1.7398e+00,  7.8318e+00,  1.8060e+01,  1.1954e+01,\n",
      "         -1.0719e+00,  7.1152e+00,  6.7358e+00, -9.6876e+00,  1.2322e+01,\n",
      "          7.5774e-01,  1.5378e-01, -2.0042e+01, -4.4615e+00, -7.4335e+00,\n",
      "          5.2997e+00,  9.4770e+00],\n",
      "        [ 2.4050e+00, -7.5158e+00,  5.9264e+00,  4.9141e-01, -5.2743e+00,\n",
      "         -4.7591e+00, -2.6819e+00,  7.8421e+00,  1.3721e+00, -4.3520e+00,\n",
      "         -4.9946e+00, -6.7244e+00,  5.8002e+00,  1.7961e+01,  1.1503e+01,\n",
      "          3.0189e+00,  7.3769e+00,  2.4324e+00, -8.3820e+00,  1.5494e+01,\n",
      "         -2.8080e+00,  1.0190e-01, -1.4353e+01, -8.8789e+00,  2.1024e+00,\n",
      "          4.6134e+00,  8.8598e+00],\n",
      "        [-1.1442e+01, -7.3908e+00,  3.8207e+00,  1.1016e+00, -8.1932e-01,\n",
      "         -1.2690e+01,  3.4642e+00,  3.7410e+00,  3.5993e-01, -4.6401e+00,\n",
      "          6.4095e+00, -2.4524e+00,  1.1534e+01,  6.5221e+00,  1.0438e+01,\n",
      "         -1.1429e+00,  3.3559e+00,  1.9384e+00, -4.1197e+00,  1.3139e+01,\n",
      "          7.5327e-01,  6.8080e+00, -1.4743e+01, -2.4243e+00, -4.5628e+00,\n",
      "          5.7433e+00,  8.2543e-01],\n",
      "        [-1.0221e+01, -5.1614e+00,  5.0154e+00,  7.2150e+00,  9.7031e-01,\n",
      "         -9.7448e+00,  5.7453e+00,  3.4681e+00,  6.0913e+00, -6.3567e+00,\n",
      "          6.3548e+00, -3.3960e+00,  1.0841e+01,  2.6337e+00,  5.8685e+00,\n",
      "         -1.2299e-01,  3.5101e+00, -2.3382e+00,  7.9591e-01,  1.4677e+01,\n",
      "          1.7062e+00,  8.0994e+00, -8.9622e+00, -3.3209e+00, -5.1535e+00,\n",
      "          7.1014e+00, -1.1780e+00],\n",
      "        [-1.0166e+01, -9.1510e+00,  1.1713e+00, -8.4057e+00,  7.9233e+00,\n",
      "         -8.6655e+00,  1.8765e+00, -1.0657e+00, -2.7892e-01, -6.6431e+00,\n",
      "          7.5847e+00, -4.6147e-01,  1.0128e+01, -2.6868e+00,  8.3549e+00,\n",
      "          3.3229e+00,  2.9408e+00,  4.2554e+00, -2.6531e+00,  1.2519e+01,\n",
      "          1.4205e+00,  7.5970e+00, -7.7712e+00, -8.4744e-01, -4.4830e+00,\n",
      "          6.4912e+00, -1.5058e+00],\n",
      "        [-9.2844e+00, -8.1430e+00,  1.8222e+00, -6.2571e+00, -1.0302e+00,\n",
      "         -1.3930e+01, -1.2746e+01, -8.4634e-02, -8.8675e+00, -3.4109e+00,\n",
      "          3.7300e+00,  2.9108e+00,  9.4494e+00,  1.1145e+01,  1.0759e+01,\n",
      "         -5.8265e+00,  5.2957e+00,  1.1901e+01, -1.1702e+01,  4.5111e+00,\n",
      "          1.5932e+00, -9.0170e-01, -1.2822e+01,  7.0188e-01, -9.4716e+00,\n",
      "          7.3226e+00,  8.5875e+00],\n",
      "        [-5.4225e+00, -1.0662e+01,  3.3579e+00,  1.3509e+01, -5.5194e+00,\n",
      "         -1.2096e+01, -3.7637e+00,  4.4387e+00,  9.1357e+00, -3.2182e+00,\n",
      "          1.3659e+00, -9.1335e+00,  8.4744e+00,  1.7204e+00,  6.2212e+00,\n",
      "          1.5898e+00, -2.5278e+00, -9.1021e-01, -4.4288e+00,  4.3599e+00,\n",
      "          1.8295e+00,  1.2944e+01, -6.1611e+00, -2.4459e+00, -5.7908e-02,\n",
      "          3.6019e+00,  1.6493e+00],\n",
      "        [-1.9074e+00, -9.4074e+00,  2.7308e+00, -3.1748e+01,  5.1523e+00,\n",
      "         -1.4390e+01,  5.8038e+00,  2.9364e+00,  5.5106e+00, -3.2483e+00,\n",
      "          5.2259e-01, -2.7244e+00, -4.8784e+00,  1.8924e+00,  9.8805e+00,\n",
      "          8.0895e+00, -9.0689e+00,  2.6205e+00, -4.3620e+00, -7.8347e+00,\n",
      "          1.8667e+00, -6.4381e+00,  5.7108e-01,  4.4455e+00,  4.7772e+00,\n",
      "          8.0246e+00,  5.7785e+00],\n",
      "        [-1.4117e+01, -8.8108e+00, -1.8871e+00, -6.8610e+00,  2.6084e+00,\n",
      "         -1.4482e+01,  4.8226e+00, -1.0527e+01,  9.2397e+00, -4.1410e+00,\n",
      "          1.7022e+00, -4.2540e+00,  5.7172e+00, -1.7862e+01,  1.5309e+00,\n",
      "         -1.2891e+01, -3.2347e+00,  1.1023e+01, -6.0858e+00, -1.1569e+01,\n",
      "          3.3704e+00,  6.4669e+00, -2.8421e+00,  2.5667e+00,  7.5302e-01,\n",
      "          7.3836e+00,  8.8292e-01],\n",
      "        [-6.3025e-01,  2.6694e+00,  2.6520e+00, -2.1013e+01,  1.5070e+01,\n",
      "         -2.1003e+00,  1.3631e+01, -1.9564e+00,  1.0744e+01, -5.7119e+00,\n",
      "          6.9419e+00, -2.5287e+00,  1.7465e+00, -3.0095e+01, -4.9237e+00,\n",
      "          9.9238e+00,  1.3446e-01,  4.1929e+00, -1.2219e+01,  1.1333e+01,\n",
      "          6.3865e+00,  1.2824e+01,  1.5911e+01, -2.2501e+00,  5.6130e+00,\n",
      "         -1.0407e+01, -3.8473e+00],\n",
      "        [-6.4762e+00,  4.9523e+00,  7.3986e+00, -6.6347e+00,  1.0309e+00,\n",
      "         -1.2200e+01, -3.4848e+00, -1.4616e+00, -4.0053e+00, -2.7014e+00,\n",
      "          2.8493e+00,  1.1754e+01,  8.8411e+00,  1.9064e+00, -2.8250e+00,\n",
      "         -1.7028e+00,  2.3771e+00,  1.6498e+01, -1.1488e+01,  8.9926e+00,\n",
      "         -1.0086e+00,  2.8939e+00,  7.5770e+00,  9.7842e-01, -9.2040e-01,\n",
      "         -4.4324e+00,  1.1737e+00],\n",
      "        [-1.1442e+01, -7.3908e+00,  3.8207e+00,  1.1016e+00, -8.1932e-01,\n",
      "         -1.2690e+01,  3.4642e+00,  3.7410e+00,  3.5993e-01, -4.6401e+00,\n",
      "          6.4095e+00, -2.4524e+00,  1.1534e+01,  6.5221e+00,  1.0438e+01,\n",
      "         -1.1429e+00,  3.3559e+00,  1.9384e+00, -4.1197e+00,  1.3139e+01,\n",
      "          7.5327e-01,  6.8080e+00, -1.4743e+01, -2.4243e+00, -4.5628e+00,\n",
      "          5.7433e+00,  8.2543e-01],\n",
      "        [-1.1214e+01, -1.0231e+01,  3.6092e+00, -6.8158e-01,  1.4585e+00,\n",
      "         -1.2802e+01,  3.7168e+00,  3.7041e+00,  3.4335e+00, -7.3651e+00,\n",
      "          6.2828e+00, -5.2063e+00,  9.0267e+00,  4.6042e+00,  9.9938e+00,\n",
      "          8.0253e-01,  1.5003e+00,  7.7412e-01, -2.8918e+00,  1.1699e+01,\n",
      "         -2.1680e-01,  8.0263e+00, -1.2216e+01, -9.7181e-01, -5.1734e+00,\n",
      "          6.3159e+00,  1.1826e+00],\n",
      "        [-6.5060e+00, -7.6365e+00,  5.8813e+00, -2.0347e+01,  1.9237e+00,\n",
      "         -1.6227e+01, -1.1814e+01,  6.2173e+00, -1.0472e+01, -1.1006e+01,\n",
      "         -6.9662e+00, -7.2050e+00, -3.1281e+00,  1.5165e+01,  7.5512e+00,\n",
      "          4.7829e+00, -9.4298e+00,  9.4354e-01, -1.3781e+01, -1.4129e+00,\n",
      "          3.6520e+00, -1.0119e+01, -3.2056e+00,  4.9820e+00, -3.7025e+00,\n",
      "         -7.7927e-01,  7.8672e-01],\n",
      "        [-7.0775e+00, -1.0385e+01,  1.0269e+00,  1.5413e+01, -1.0915e+01,\n",
      "         -1.5773e+01, -4.9861e+00, -1.4671e+01, -2.5428e+00, -2.7481e+00,\n",
      "         -1.5654e+01, -1.2658e+01,  6.8471e-02,  1.3195e+01,  1.0106e+01,\n",
      "         -8.9385e+00, -3.0073e+00,  6.1641e+00, -7.6393e+00, -9.6979e+00,\n",
      "          1.2111e+00, -1.1347e+00, -1.3854e+01, -1.5373e+00, -4.7000e+00,\n",
      "          5.3426e+00,  8.8589e+00],\n",
      "        [ 1.0330e+01, -4.1441e+00,  1.1813e+01,  4.8681e+00,  9.7488e-01,\n",
      "         -1.3700e+01,  4.8282e+00, -2.7492e+00, -4.1556e+00,  5.9956e+00,\n",
      "         -1.2742e+01, -1.2169e+00, -1.3053e+00,  1.6152e+01,  1.3339e+01,\n",
      "          6.4741e+00,  3.4159e+00,  9.5519e+00, -1.4874e+01,  7.7292e+00,\n",
      "          3.9401e+00, -3.2863e-03,  3.5788e+00, -8.8019e+00, -9.5996e+00,\n",
      "         -6.5704e+00,  1.3343e+01],\n",
      "        [ 3.5882e-01, -6.9006e+00,  1.5812e+00,  2.0255e+01, -1.3083e+01,\n",
      "         -6.4749e+00,  1.9070e-01,  5.2680e+00,  1.1926e+01,  9.2938e+00,\n",
      "         -2.8155e+00, -4.7089e+00,  7.1247e+00,  6.0398e+00,  1.0794e+01,\n",
      "          9.6672e+00, -2.9163e+00, -6.6778e-01, -6.1116e+00,  1.1368e+01,\n",
      "         -2.2916e+00,  1.3486e+01, -5.1186e+00, -3.7120e+00,  3.8274e+00,\n",
      "          9.0977e+00,  3.7665e+00],\n",
      "        [ 2.9815e+00, -7.3780e+00,  5.9153e+00, -5.7276e+00, -3.2805e+00,\n",
      "         -1.1027e+01, -1.0964e+00,  6.5606e+00, -2.1349e+00, -1.2977e+01,\n",
      "          3.9091e+00, -4.7526e+00,  3.6836e+00,  2.6833e+01,  8.7418e+00,\n",
      "          8.5091e+00,  1.5131e+00, -4.3090e-01, -1.9158e+00,  6.1611e+00,\n",
      "         -8.2171e+00,  3.1513e+00, -1.0640e+01, -3.1362e-01, -1.7844e+00,\n",
      "          1.0984e+01,  3.2640e+00]])\n"
     ]
    }
   ],
   "source": [
    "logits = h @ W2 + b2\n",
    "print(logits.shape)\n",
    "print(logits)"
   ],
   "metadata": {
    "collapsed": false,
    "ExecuteTime": {
     "end_time": "2023-10-29T14:33:36.676894Z",
     "start_time": "2023-10-29T14:33:36.663903Z"
    }
   },
   "id": "2f62f3dd2bf85a94"
  },
  {
   "cell_type": "code",
   "execution_count": 73,
   "outputs": [],
   "source": [
    "counts = logits.exp()"
   ],
   "metadata": {
    "collapsed": false,
    "ExecuteTime": {
     "end_time": "2023-10-29T14:34:10.367306Z",
     "start_time": "2023-10-29T14:34:10.339262Z"
    }
   },
   "id": "74f72f4e44e38288"
  },
  {
   "cell_type": "code",
   "execution_count": 82,
   "outputs": [
    {
     "name": "stdout",
     "output_type": "stream",
     "text": [
      "torch.Size([32, 27])\n",
      "tensor(1.0000)\n"
     ]
    }
   ],
   "source": [
    "prob = counts / counts.sum(1, keepdims=True)\n",
    "print(prob.shape)\n",
    "print(prob[0].sum())"
   ],
   "metadata": {
    "collapsed": false,
    "ExecuteTime": {
     "end_time": "2023-10-29T14:38:24.316370Z",
     "start_time": "2023-10-29T14:38:24.306334Z"
    }
   },
   "id": "712eaa0afc8d00e1"
  },
  {
   "cell_type": "code",
   "execution_count": 83,
   "outputs": [
    {
     "data": {
      "text/plain": "tensor([4.7599e-12, 1.2759e-06, 9.9445e-01, 7.3539e-10, 1.7468e-06, 4.9276e-07,\n        2.1059e-08, 1.2534e-06, 9.9832e-01, 2.8278e-10, 2.1681e-11, 5.7102e-10,\n        9.5329e-10, 1.7880e-13, 2.6270e-12, 1.6138e-07, 1.4922e-08, 9.7574e-01,\n        3.4205e-10, 2.1807e-05, 4.7734e-12, 2.7969e-07, 4.0916e-03, 1.1108e-06,\n        1.0424e-10, 7.8524e-01, 1.4382e-05, 2.0816e-11, 1.4266e-08, 3.4127e-05,\n        1.6057e-12, 4.3812e-11])"
     },
     "execution_count": 83,
     "metadata": {},
     "output_type": "execute_result"
    }
   ],
   "source": [
    "prob[torch.arange(32), Y]"
   ],
   "metadata": {
    "collapsed": false,
    "ExecuteTime": {
     "end_time": "2023-10-29T14:41:54.917696Z",
     "start_time": "2023-10-29T14:41:54.902539Z"
    }
   },
   "id": "4de2153a71bf8948"
  },
  {
   "cell_type": "code",
   "execution_count": 84,
   "outputs": [
    {
     "data": {
      "text/plain": "tensor(16.5391)"
     },
     "execution_count": 84,
     "metadata": {},
     "output_type": "execute_result"
    }
   ],
   "source": [
    "loss = -prob[torch.arange(32), Y].log().mean()\n",
    "loss"
   ],
   "metadata": {
    "collapsed": false,
    "ExecuteTime": {
     "end_time": "2023-10-29T14:43:15.540484Z",
     "start_time": "2023-10-29T14:43:15.511889Z"
    }
   },
   "id": "2a62e9573ee89716"
  },
  {
   "cell_type": "code",
   "execution_count": 85,
   "outputs": [],
   "source": [
    "# --------------- now made respectable :) ---------------"
   ],
   "metadata": {
    "collapsed": false,
    "ExecuteTime": {
     "end_time": "2023-10-29T14:44:30.946455Z",
     "start_time": "2023-10-29T14:44:30.917618Z"
    }
   },
   "id": "7942bf8e61638796"
  },
  {
   "cell_type": "code",
   "execution_count": 239,
   "outputs": [
    {
     "data": {
      "text/plain": "(torch.Size([182625, 3]), torch.Size([182625]))"
     },
     "execution_count": 239,
     "metadata": {},
     "output_type": "execute_result"
    }
   ],
   "source": [
    "Xtr.shape, Ytr.shape # dataset"
   ],
   "metadata": {
    "collapsed": false,
    "ExecuteTime": {
     "end_time": "2023-10-29T18:04:25.196701Z",
     "start_time": "2023-10-29T18:04:25.180315Z"
    }
   },
   "id": "9b9dada623be5dfb"
  },
  {
   "cell_type": "code",
   "execution_count": 271,
   "outputs": [],
   "source": [
    "g = torch.Generator().manual_seed(2147483647)  # for reproducibility\n",
    "C = torch.randn((27, 10), generator=g)\n",
    "W1 = torch.randn((30, 200), generator=g)\n",
    "b1 = torch.randn(200, generator=g)\n",
    "W2 = torch.randn((200, 27), generator=g)\n",
    "b2 = torch.randn(27, generator=g)\n",
    "parameters = [C, W1, b1, W2, b2]"
   ],
   "metadata": {
    "collapsed": false,
    "ExecuteTime": {
     "end_time": "2023-10-29T18:23:44.850409Z",
     "start_time": "2023-10-29T18:23:44.826639Z"
    }
   },
   "id": "fdb8016c45bef135"
  },
  {
   "cell_type": "code",
   "execution_count": 272,
   "outputs": [
    {
     "data": {
      "text/plain": "11897"
     },
     "execution_count": 272,
     "metadata": {},
     "output_type": "execute_result"
    }
   ],
   "source": [
    "sum(p.nelement() for p in parameters) # number of parameters in total"
   ],
   "metadata": {
    "collapsed": false,
    "ExecuteTime": {
     "end_time": "2023-10-29T18:23:45.893448Z",
     "start_time": "2023-10-29T18:23:45.878581Z"
    }
   },
   "id": "2769afb880d19c23"
  },
  {
   "cell_type": "code",
   "execution_count": 128,
   "outputs": [
    {
     "name": "stdout",
     "output_type": "stream",
     "text": [
      "tensor(17.7697)\n",
      "tensor([0., 0., 0., nan])\n"
     ]
    }
   ],
   "source": [
    "emb = C[X] # (32, 3, 2)\n",
    "h = torch.tanh(emb.view(-1, 6) @ W1 + b1) # (32, 100)\n",
    "logits = h @ W2 + b2 # (32, 27)\n",
    "# counts = logits.exp()\n",
    "# prob = counts / counts.sum(1, keepdim=True)\n",
    "# loss = -prob[torch.arange(32), Y].log().mean()\n",
    "loss = F.cross_entropy(logits, Y)\n",
    "print(loss)\n",
    "\n",
    "# Why is cross_entropy better?\n",
    "# 1. forward pass and backward pass much more faster\n",
    "# 2. doesn't have this problem:\n",
    "logits = torch.tensor([-100, -3, 0, 100]).float()\n",
    "counts = logits.exp()\n",
    "probs = counts / counts.sum()\n",
    "print(probs)"
   ],
   "metadata": {
    "collapsed": false,
    "ExecuteTime": {
     "end_time": "2023-10-29T17:12:38.521994Z",
     "start_time": "2023-10-29T17:12:38.500349Z"
    }
   },
   "id": "18c48c043a68f532"
  },
  {
   "cell_type": "code",
   "execution_count": 273,
   "outputs": [],
   "source": [
    "for p in parameters:\n",
    "    p.requires_grad = True"
   ],
   "metadata": {
    "collapsed": false,
    "ExecuteTime": {
     "end_time": "2023-10-29T18:23:48.839417Z",
     "start_time": "2023-10-29T18:23:48.820489Z"
    }
   },
   "id": "d0307bd858c89060"
  },
  {
   "cell_type": "code",
   "execution_count": 274,
   "outputs": [],
   "source": [
    "learning_rate_exponent = torch.linspace(-3, 0, 1000)\n",
    "learning_rates = 10**learning_rate_exponent\n",
    "learning_rate_i = []\n",
    "loss_i = []\n",
    "step_i = []"
   ],
   "metadata": {
    "collapsed": false,
    "ExecuteTime": {
     "end_time": "2023-10-29T18:23:49.294680Z",
     "start_time": "2023-10-29T18:23:49.283297Z"
    }
   },
   "id": "2bb37092061987f4"
  },
  {
   "cell_type": "code",
   "execution_count": 275,
   "outputs": [
    {
     "name": "stdout",
     "output_type": "stream",
     "text": [
      "1.6424773931503296\n"
     ]
    }
   ],
   "source": [
    "for i in range(200_000):\n",
    "    # minibatch construct\n",
    "    ix = torch.randint(0, Xtr.shape[0], (32, ))\n",
    "    minibatch_Xtr = Xtr[ix]\n",
    "    minibatch_Ytr = Ytr[ix]\n",
    "    # forward pass\n",
    "    emb = C[minibatch_Xtr] # (32, 3, 2)\n",
    "    h = torch.tanh(emb.view(-1, 30) @ W1 + b1) # (32, 100)\n",
    "    logits = h @ W2 + b2 # (32, 27)\n",
    "    loss = F.cross_entropy(logits, minibatch_Ytr)\n",
    "    # print(loss.item())\n",
    "    # backward pass\n",
    "    for p in parameters:\n",
    "        p.grad = None\n",
    "    loss.backward()\n",
    "    # update params\n",
    "    learning_rate = 0.1 if i < 100000 else 0.01\n",
    "    for p in parameters:\n",
    "        p.data += -learning_rate * p.grad\n",
    "    # track stats\n",
    "    # learning_rate_i.append(learning_rate)\n",
    "    step_i.append(i)\n",
    "    loss_i.append(loss.log10().item())\n",
    "print(loss.item())"
   ],
   "metadata": {
    "collapsed": false,
    "ExecuteTime": {
     "end_time": "2023-10-29T18:25:19.070402Z",
     "start_time": "2023-10-29T18:23:52.084871Z"
    }
   },
   "id": "9a81d765c4a96be6"
  },
  {
   "cell_type": "code",
   "execution_count": 276,
   "outputs": [
    {
     "name": "stdout",
     "output_type": "stream",
     "text": [
      "tensor(2.1140, grad_fn=<NllLossBackward0>)\n",
      "tensor(2.1588, grad_fn=<NllLossBackward0>)\n"
     ]
    }
   ],
   "source": [
    "def print_loss(x, y):\n",
    "    emb = C[x] # (32, 3, 2)\n",
    "    h = torch.tanh(emb.view(-1, 30) @ W1 + b1) # (32, 100)\n",
    "    logits = h @ W2 + b2 # (32, 27)\n",
    "    loss = F.cross_entropy(logits, y)\n",
    "    print(loss)\n",
    "\n",
    "print_loss(Xtr, Ytr)\n",
    "print_loss(Xdev, Ydev)\n",
    "# print(logits.max(1))\n",
    "# print(Y)"
   ],
   "metadata": {
    "collapsed": false,
    "ExecuteTime": {
     "end_time": "2023-10-29T18:25:19.568293Z",
     "start_time": "2023-10-29T18:25:19.068754Z"
    }
   },
   "id": "56ac112f453b743c"
  },
  {
   "cell_type": "code",
   "execution_count": 277,
   "outputs": [
    {
     "data": {
      "text/plain": "[<matplotlib.lines.Line2D at 0x1207d7010>]"
     },
     "execution_count": 277,
     "metadata": {},
     "output_type": "execute_result"
    },
    {
     "data": {
      "text/plain": "<Figure size 640x480 with 1 Axes>",
      "image/png": "[encoded data removed]"
     },
     "metadata": {},
     "output_type": "display_data"
    }
   ],
   "source": [
    "plt.plot(step_i, loss_i)"
   ],
   "metadata": {
    "collapsed": false,
    "ExecuteTime": {
     "end_time": "2023-10-29T18:25:19.918534Z",
     "start_time": "2023-10-29T18:25:19.568005Z"
    }
   },
   "id": "36e296237df7e024"
  },
  {
   "cell_type": "code",
   "execution_count": 256,
   "outputs": [],
   "source": [
    "# training split, dev/validation split, test split\n",
    "# 80%,                             10%,        10%"
   ],
   "metadata": {
    "collapsed": false,
    "ExecuteTime": {
     "end_time": "2023-10-29T18:11:54.842101Z",
     "start_time": "2023-10-29T18:11:54.789161Z"
    }
   },
   "id": "d953658ccd28c54b"
  },
  {
   "cell_type": "code",
   "execution_count": 257,
   "outputs": [
    {
     "data": {
      "text/plain": "<Figure size 800x800 with 1 Axes>",
      "image/png": "[encoded data removed]"
     },
     "metadata": {},
     "output_type": "display_data"
    }
   ],
   "source": [
    "# visualize dimensions 0 and 1 of the embedding matrix C for all characters\n",
    "plt.figure(figsize=(8,8))\n",
    "plt.scatter(C[:,0].data, C[:,1].data, s=200)\n",
    "for i in range(C.shape[0]):\n",
    "    plt.text(C[i,0].item(), C[i,1].item(), itos[i], ha=\"center\", va=\"center\", color='white')\n",
    "plt.grid('minor')"
   ],
   "metadata": {
    "collapsed": false,
    "ExecuteTime": {
     "end_time": "2023-10-29T18:12:42.576095Z",
     "start_time": "2023-10-29T18:12:42.351598Z"
    }
   },
   "id": "4c252c42a1b9785a"
  },
  {
   "cell_type": "code",
   "execution_count": 278,
   "outputs": [
    {
     "name": "stdout",
     "output_type": "stream",
     "text": [
      "mora.\n",
      "kayah.\n",
      "see.\n",
      "madhayla.\n",
      "remmastendraeg.\n",
      "adelyn.\n",
      "elin.\n",
      "shy.\n",
      "jenrekeiseananar.\n",
      "katelvinta.\n",
      "cayshub.\n",
      "ridhiriel.\n",
      "kindreth.\n",
      "khanthulanu.\n",
      "zey.\n",
      "dariyah.\n",
      "fael.\n",
      "yuma.\n",
      "myah.\n",
      "yam.\n"
     ]
    }
   ],
   "source": [
    "# sample from the model\n",
    "g = torch.Generator().manual_seed(2147483647 + 10)\n",
    "\n",
    "for _ in range(20):\n",
    "\n",
    "    out = []\n",
    "    context = [0] * block_size # initialize with all ...\n",
    "    while True:\n",
    "        emb = C[torch.tensor([context])] # (1,block_size,d)\n",
    "        h = torch.tanh(emb.view(1, -1) @ W1 + b1)\n",
    "        logits = h @ W2 + b2\n",
    "        probs = F.softmax(logits, dim=1)\n",
    "        ix = torch.multinomial(probs, num_samples=1, generator=g).item()\n",
    "        context = context[1:] + [ix]\n",
    "        out.append(ix)\n",
    "        if ix == 0:\n",
    "            break\n",
    "\n",
    "    print(''.join(itos[i] for i in out))"
   ],
   "metadata": {
    "collapsed": false,
    "ExecuteTime": {
     "end_time": "2023-10-29T18:28:37.551832Z",
     "start_time": "2023-10-29T18:28:37.485869Z"
    }
   },
   "id": "cc3ee0733dda847"
  },
  {
   "cell_type": "code",
   "execution_count": null,
   "outputs": [],
   "source": [],
   "metadata": {
    "collapsed": false
   },
   "id": "a39a90415fa597d7"
  }
 ],
 "metadata": {
  "kernelspec": {
   "display_name": "Python 3",
   "language": "python",
   "name": "python3"
  },
  "language_info": {
   "codemirror_mode": {
    "name": "ipython",
    "version": 2
   },
   "file_extension": ".py",
   "mimetype": "text/x-python",
   "name": "python",
   "nbconvert_exporter": "python",
   "pygments_lexer": "ipython2",
   "version": "2.7.6"
  }
 },
 "nbformat": 4,
 "nbformat_minor": 5
}
